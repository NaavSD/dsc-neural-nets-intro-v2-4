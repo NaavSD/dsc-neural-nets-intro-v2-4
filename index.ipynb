{
 "cells": [
  {
   "cell_type": "markdown",
   "metadata": {},
   "source": [
    "# Neural Networks - Introduction\n",
    "\n",
    "## Introduction \n",
    "\n",
    "In this section, you'll be introduced to one of the most advanced machine learning algorithms currently in the world -- neural networks! \n",
    "\n",
    "## Deep Learning\n",
    "\n",
    "The time has come to learn about one of the most exciting and fast-growing areas of data science: Deep Learning! When we talk about deep learning, we are talking about (deep) neural networks. You'll learn all about them in this section. You'll also use Python to build (basic) neural networks from scratch.\n",
    "\n",
    "### Neural Networks\n",
    "\n",
    "In this section, you'll learn what it means when we talk about neural networks. You'll learn about the essential building blocks like \"layers\", \"nodes\", \"arrows\", \"weights\", \"loss\", \"cost function\", etc. You'll learn that a neural network generally consists of several layers, and how a logistic regression model can be represented as a neural network with just one layer. You'll be able to explain what the advantages and disadvantages of using neural networks are, and get an insight of how forward and backward propagation are used in neural networks to minimize the loss and \"optimize\" your neural network.\n",
    "\n",
    "### Keras and TensorFlow\n",
    "\n",
    "You'll be introduced to Keras, a leading open source neural network library in Python, which is now a part of TensorFlow. Keras makes building neural networks surprisingly easy. Before building your first neural network model in Keras, you'll learn about tensors and why they are important when building deep learning models.\n",
    "\n",
    "### Deeper Neural Networks\n",
    "\n",
    "You'll learn why deeper networks sometimes lead to better results, and we'll generalize what you have learned before to get your matrix dimensions right for deep networks. You'll build deeper neural networks from scratch, and also learn how to build these using Keras.\n",
    "\n",
    "You'll learn that deep representations are really good at automating what used to be a tedious and time-consuming process of feature engineering. In this section, you'll see that you can actually build a smaller but deeper neural network with exponentially less hidden units which performs even better than a network with more hidden units. The reason for this is that learning happens in each layer, and adding more layers (even with fewer limits) can lead to very powerful predictions! You'll learn about matrix notation for these deep networks and how to build a network like that from scratch.\n",
    "\n",
    "## Summary\n",
    "\n",
    "In this section, you'll learn the basics of neural networks and how to implement them in Keras!"
   ]
  }
 ],
 "metadata": {
  "kernelspec": {
   "display_name": "Python (learn-env)",
   "language": "python",
   "name": "learn-env"
  },
  "language_info": {
   "codemirror_mode": {
    "name": "ipython",
    "version": 3
   },
   "file_extension": ".py",
   "mimetype": "text/x-python",
   "name": "python",
   "nbconvert_exporter": "python",
   "pygments_lexer": "ipython3",
   "version": "3.8.5"
  }
 },
 "nbformat": 4,
 "nbformat_minor": 2
}
